{
 "cells": [
  {
   "cell_type": "code",
   "execution_count": 117,
   "metadata": {},
   "outputs": [
    {
     "data": {
      "text/plain": [
       "True"
      ]
     },
     "execution_count": 117,
     "metadata": {},
     "output_type": "execute_result"
    }
   ],
   "source": [
    "import os\n",
    "import numpy as np\n",
    "import pandas as pd\n",
    "from joblib import dump\n",
    "from dotenv import load_dotenv\n",
    "from sqlalchemy.engine import Engine\n",
    "from sqlalchemy import create_engine\n",
    "from sklearn.metrics import accuracy_score\n",
    "from sklearn.metrics import confusion_matrix\n",
    "from sklearn.preprocessing import StandardScaler\n",
    "from sklearn.linear_model import LogisticRegression\n",
    "from sklearn.model_selection import train_test_split\n",
    "\n",
    "base_path = \"/media/bruno/Arquivos/Desenvolvimento/WineQuality\"\n",
    "load_dotenv(f\"{base_path}/config/.env\")"
   ]
  },
  {
   "cell_type": "code",
   "execution_count": 2,
   "metadata": {},
   "outputs": [],
   "source": [
    "def get_engine() -> Engine:\n",
    "    user = os.getenv(\"DB_USER\")\n",
    "    pw = os.getenv(\"DB_PASS\")\n",
    "    db = os.getenv(\"DB_NAME\")\n",
    "    host = os.getenv(\"DB_HOST\")\n",
    "    port = os.getenv(\"DB_PORT\")\n",
    "    return create_engine(f\"mysql+pymysql://{user}:{pw}@{host}:{port}/{db}\")"
   ]
  },
  {
   "cell_type": "code",
   "execution_count": 123,
   "metadata": {},
   "outputs": [
    {
     "name": "stdout",
     "output_type": "stream",
     "text": [
      "RESULTADO DA MODELAGEM\n",
      "Acurácia no treino: 0.7821782178217822\n",
      "Acurácia no teste: 0.8549618320610687\n",
      "Precisão do modelo: 0.8157894736842105\n",
      "Recall do modelo: 0.9253731343283582\n",
      "F1-score do modelo: 0.8671328671328671\n"
     ]
    }
   ],
   "source": [
    "def train() -> None:\n",
    "    engine = get_engine()\n",
    "    with engine.connect() as conn:\n",
    "        query = \"\"\"\n",
    "            select\n",
    "                w.volatile_acidity,\n",
    "                w.citric_acid,\n",
    "                w.free_sulfur_dioxide,\n",
    "                w.alcohol,\n",
    "                if(w.quality >= 7, 1, 0) as quality\n",
    "            from wine_results w\n",
    "        \"\"\"\n",
    "        dataset = pd.read_sql(query, conn)\n",
    "        n_minority = list(dataset.values[:, -1]).count(1)\n",
    "        thresholds = [0.3, 0.4, 0.5, 0.6, 0.7]\n",
    "        executions = 10\n",
    "\n",
    "        classifiers, scalers, metrics, iteration = [], [], [], 0\n",
    "        for threshold in thresholds:\n",
    "            for n in range(0, executions):\n",
    "                new_dataset, included = [], []\n",
    "                new_dataset.extend(dataset.query(\"quality == 1\").values)\n",
    "                while len(new_dataset) < 2 * n_minority:\n",
    "                    i = np.random.randint(0, len(dataset))\n",
    "                    quality = dataset.values[i, -1]\n",
    "                    if quality != 1 and i not in included:\n",
    "                        new_dataset.append(dataset.values[i])\n",
    "                        included.append(i)\n",
    "                        \n",
    "                new_dataset = pd.DataFrame(new_dataset, columns=dataset.columns)\n",
    "                X, y = new_dataset.values[:, :-1], new_dataset.values[:, -1]\n",
    "                X_train, X_test, y_train, y_test = train_test_split(X, y, test_size=0.3)\n",
    "\n",
    "                scaler = StandardScaler()\n",
    "                X_train = scaler.fit_transform(X_train)\n",
    "                X_test = scaler.transform(X_test)\n",
    "\n",
    "                classifier = LogisticRegression()\n",
    "                classifier.fit(X_train, y_train)\n",
    "\n",
    "                def predict(features):\n",
    "                    values = classifier.predict_proba(features)\n",
    "                    return [1 if v[1] >= threshold else 0 for v in values]\n",
    "            \n",
    "                y_pred = predict(X_test)\n",
    "                cm = confusion_matrix(y_test, y_pred)\n",
    "                tn, fp, fn, tp = cm[0][0], cm[0][1], cm[1][0], cm[1][1]\n",
    "                test_acc = accuracy_score(y_test, y_pred)\n",
    "                train_acc = accuracy_score(y_train, predict(X_train))\n",
    "\n",
    "                precision = tp / (tp + fp)\n",
    "                recall = tp / (tp + fn)\n",
    "                f1 = 2 * (precision * recall) / (precision + recall)\n",
    "                \n",
    "                classifiers.append(classifier)\n",
    "                scalers.append(scaler)\n",
    "                metrics.append({\n",
    "                    \"train_acc\": train_acc,\n",
    "                    \"test_acc\": test_acc,\n",
    "                    \"precision\": precision,\n",
    "                    \"recall\": recall,\n",
    "                    \"f1\": f1,\n",
    "                    \"threshold\": threshold,\n",
    "                    \"execution\": iteration,\n",
    "                    \"decision\": f1 * 0.5 + test_acc * 0.5\n",
    "                })\n",
    "                iteration = iteration + 1\n",
    "\n",
    "        metrics = pd.DataFrame(metrics).sort_values(\"decision\", ascending=False)\n",
    "        print(\"RESULTADO DA MODELAGEM\")\n",
    "        print(f\"Acurácia no treino: {metrics['train_acc'].values[0]}\")\n",
    "        print(f\"Acurácia no teste: {metrics['test_acc'].values[0]}\")\n",
    "        print(f\"Precisão do modelo: {metrics['precision'].values[0]}\")\n",
    "        print(f\"Recall do modelo: {metrics['recall'].values[0]}\")\n",
    "        print(f\"F1-score do modelo: {metrics['f1'].values[0]}\")\n",
    "\n",
    "        dump(classifiers[metrics[\"execution\"].values[0]], f\"{base_path}/data/model.joblib\")\n",
    "        dump(scalers[metrics[\"execution\"].values[0]], f\"{base_path}/data/scaler.joblib\")\n",
    "\n",
    "\n",
    "train()"
   ]
  }
 ],
 "metadata": {
  "kernelspec": {
   "display_name": "Python 3.10.4 ('.venv': venv)",
   "language": "python",
   "name": "python3"
  },
  "language_info": {
   "codemirror_mode": {
    "name": "ipython",
    "version": 3
   },
   "file_extension": ".py",
   "mimetype": "text/x-python",
   "name": "python",
   "nbconvert_exporter": "python",
   "pygments_lexer": "ipython3",
   "version": "3.10.4"
  },
  "orig_nbformat": 4,
  "vscode": {
   "interpreter": {
    "hash": "e766f0e7bfab9263e2c1e9855808177e9a47039e5af127512970c2371b7fbb08"
   }
  }
 },
 "nbformat": 4,
 "nbformat_minor": 2
}

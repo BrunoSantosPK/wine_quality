{
 "cells": [
  {
   "cell_type": "code",
   "execution_count": 2,
   "metadata": {},
   "outputs": [
    {
     "data": {
      "text/plain": [
       "True"
      ]
     },
     "execution_count": 2,
     "metadata": {},
     "output_type": "execute_result"
    }
   ],
   "source": [
    "import os\n",
    "import numpy as np\n",
    "import pandas as pd\n",
    "from joblib import dump\n",
    "from dotenv import load_dotenv\n",
    "from sqlalchemy.engine import Engine\n",
    "from sqlalchemy import create_engine\n",
    "from sklearn.metrics import accuracy_score\n",
    "from sklearn.metrics import confusion_matrix\n",
    "from sklearn.preprocessing import StandardScaler\n",
    "from sklearn.linear_model import LogisticRegression\n",
    "from sklearn.model_selection import train_test_split\n",
    "\n",
    "base_path = \"/media/bruno/Arquivos/Desenvolvimento/WineQuality\"\n",
    "load_dotenv(f\"{base_path}/config/.env\")"
   ]
  },
  {
   "cell_type": "code",
   "execution_count": 3,
   "metadata": {},
   "outputs": [],
   "source": [
    "def get_engine() -> Engine:\n",
    "    user = os.getenv(\"DB_USER\")\n",
    "    pw = os.getenv(\"DB_PASS\")\n",
    "    db = os.getenv(\"DB_NAME\")\n",
    "    host = os.getenv(\"DB_HOST\")\n",
    "    port = os.getenv(\"DB_PORT\")\n",
    "    return create_engine(f\"mysql+pymysql://{user}:{pw}@{host}:{port}/{db}\")"
   ]
  },
  {
   "cell_type": "code",
   "execution_count": 11,
   "metadata": {},
   "outputs": [
    {
     "name": "stdout",
     "output_type": "stream",
     "text": [
      "RESULTADO DA MODELAGEM\n",
      "Acurácia no treino: 0.7821782178217822\n",
      "Acurácia no teste: 0.8091603053435115\n",
      "Precisão do modelo: 0.7936507936507936\n",
      "Recall do modelo: 0.8064516129032258\n",
      "F1-score do modelo: 0.7999999999999999\n"
     ]
    }
   ],
   "source": [
    "def train() -> None:\n",
    "    engine = get_engine()\n",
    "    with engine.connect() as conn:\n",
    "        query = \"\"\"\n",
    "            select\n",
    "                w.volatile_acidity,\n",
    "                w.citric_acid,\n",
    "                w.free_sulfur_dioxide,\n",
    "                w.alcohol,\n",
    "                if(w.quality >= 7, 1, 0) as quality\n",
    "            from wine_results w\n",
    "        \"\"\"\n",
    "        dataset = pd.read_sql(query, conn)\n",
    "        n_minority = list(dataset.values[:, -1]).count(1)\n",
    "\n",
    "        new_dataset, included = [], []\n",
    "        new_dataset.extend(dataset.query(\"quality == 1\").values)\n",
    "        while len(new_dataset) < 2 * n_minority:\n",
    "            i = np.random.randint(0, len(dataset))\n",
    "            quality = dataset.values[i, -1]\n",
    "            if quality != 1 and i not in included:\n",
    "                new_dataset.append(dataset.values[i])\n",
    "                included.append(i)\n",
    "                \n",
    "        new_dataset = pd.DataFrame(new_dataset, columns=dataset.columns)\n",
    "        X, y = new_dataset.values[:, :-1], new_dataset.values[:, -1]\n",
    "        X_train, X_test, y_train, y_test = train_test_split(X, y, test_size=0.3)\n",
    "\n",
    "        scaler = StandardScaler()\n",
    "        X_train = scaler.fit_transform(X_train)\n",
    "        X_test_scaler = scaler.transform(X_test)\n",
    "\n",
    "        classifier = LogisticRegression()\n",
    "        classifier.fit(X_train, y_train)\n",
    "    \n",
    "        y_pred = classifier.predict(X_test_scaler)\n",
    "        cm = confusion_matrix(y_test, y_pred)\n",
    "        tn, fp, fn, tp = cm[0][0], cm[0][1], cm[1][0], cm[1][1]\n",
    "        test_acc = accuracy_score(y_test, y_pred)\n",
    "        train_acc = accuracy_score(y_train, classifier.predict(X_train))\n",
    "\n",
    "        precision = tp / (tp + fp)\n",
    "        recall = tp / (tp + fn)\n",
    "        f1 = 2 * (precision * recall) / (precision + recall)\n",
    "\n",
    "        df_test = []\n",
    "        for i in range(0, len(X_test)):\n",
    "            df_test.append(list(X_test[i]))\n",
    "            df_test[i].extend([y_test[i], y_pred[i]])\n",
    "\n",
    "        columns = list(dataset.columns)\n",
    "        columns.append(\"predict\")\n",
    "        df_test = pd.DataFrame(df_test, columns=columns)\n",
    "\n",
    "        print(\"RESULTADO DA MODELAGEM\")\n",
    "        print(f\"Acurácia no treino: {train_acc}\")\n",
    "        print(f\"Acurácia no teste: {test_acc}\")\n",
    "        print(f\"Precisão do modelo: {precision}\")\n",
    "        print(f\"Recall do modelo: {recall}\")\n",
    "        print(f\"F1-score do modelo: {f1}\")\n",
    "\n",
    "        df_test.to_csv(f\"{base_path}/data/data_test.csv\", index=False)\n",
    "        dump(classifier, f\"{base_path}/data/model.joblib\")\n",
    "        dump(scaler, f\"{base_path}/data/scaler.joblib\")\n",
    "\n",
    "\n",
    "train()"
   ]
  }
 ],
 "metadata": {
  "kernelspec": {
   "display_name": "Python 3.10.4 ('.venv': venv)",
   "language": "python",
   "name": "python3"
  },
  "language_info": {
   "codemirror_mode": {
    "name": "ipython",
    "version": 3
   },
   "file_extension": ".py",
   "mimetype": "text/x-python",
   "name": "python",
   "nbconvert_exporter": "python",
   "pygments_lexer": "ipython3",
   "version": "3.10.4"
  },
  "orig_nbformat": 4,
  "vscode": {
   "interpreter": {
    "hash": "e766f0e7bfab9263e2c1e9855808177e9a47039e5af127512970c2371b7fbb08"
   }
  }
 },
 "nbformat": 4,
 "nbformat_minor": 2
}
